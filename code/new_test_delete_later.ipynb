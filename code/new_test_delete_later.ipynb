{
 "cells": [
  {
   "cell_type": "code",
   "execution_count": 8,
   "metadata": {},
   "outputs": [],
   "source": [
    "import numpy as np\n",
    "import pandas as pd\n",
    "import lightkurve as lk\n",
    "import matplotlib.pyplot as plt\n",
    "import re\n",
    "import os\n",
    "from astropy.io import fits\n",
    "\n",
    "import warnings\n",
    "\n",
    "warnings.filterwarnings(\"ignore\")"
   ]
  },
  {
   "cell_type": "code",
   "execution_count": 7,
   "metadata": {},
   "outputs": [],
   "source": [
    "path_data = '../results/TPF_dataframe.csv'\n",
    "df = pd.read_csv(path_data)\n",
    "\n",
    "folder = '../results/TPF_data/'\n",
    "# list dubfolders in folder\n",
    "subfolders = [f.path for f in os.scandir(folder) if f.is_dir()]"
   ]
  },
  {
   "cell_type": "code",
   "execution_count": 52,
   "metadata": {},
   "outputs": [
    {
     "name": "stdout",
     "output_type": "stream",
     "text": [
      "Kepler-1663 (Gaia DR2 2129578826996503040): Found 50 TPFs\n",
      "IndexError: list index out of range. Skipping iteration 25.\n",
      "IndexError: list index out of range. Skipping iteration 34.\n",
      "K2-33 (K2-33): Found 1 TPFs\n",
      "Downloading TPF 1/1\r"
     ]
    },
    {
     "name": "stderr",
     "output_type": "stream",
     "text": [
      "Warning: 36% (1380/3856) of the cadences will be ignored due to the quality mask (quality_bitmask=1130799).\n"
     ]
    },
    {
     "name": "stdout",
     "output_type": "stream",
     "text": [
      "TOI-1227 (TOI-1227): Found 11 TPFs\n",
      "HD_114082 (HD 114082): Found 4 TPFs\n",
      "HIP_67522 (HIP 67522): Found 6 TPFs\n",
      "WASP-25 (WASP-25): Found 2 TPFs\n",
      "AU_Mic (AU Mic): Found 5 TPFs\n",
      "V1298_Tau (V1298 Tau): Found 7 TPFs\n",
      "HD_109833 (HD 109833): Found 8 TPFs\n",
      "CoRoT-18 (CoRoT-18): Found 5 TPFs\n",
      "TOI-837 (TOI-837): Found 12 TPFs\n",
      "KOI-7913_A (TIC 158320130): Found 10 TPFs\n",
      "KOI-7368 (KOI-7368): Found 26 TPFs\n",
      "DS_Tuc_A (HD 222259 A): Found 12 TPFs\n",
      "Kepler-1643 (Kepler-1643): Found 17 TPFs\n",
      "TOI-942 (TOI-942): Found 3 TPFs\n",
      "CoRoT-20 (CoRoT-20): Found 5 TPFs\n",
      "Kepler-1928 (Kepler-1928): Found 23 TPFs\n",
      "Kepler-970 (Kepler-970): Found 17 TPFs\n",
      "K2-284 (K2-284): Found 7 TPFs\n",
      "TOI-251 (TOI-251): Found 6 TPFs\n",
      "Kepler-529 (Kepler-529): Found 18 TPFs\n",
      "KOI-1783 (KOI-1783): Found 22 TPFs\n",
      "Kepler-1733 (TIC 122781795): Found 17 TPFs\n",
      "Kepler-279 (Kepler-279): Found 35 TPFs\n",
      "Kepler-1903 (TIC 417655814): Found 17 TPFs\n",
      "Kepler-1764 (TIC 138431522): Found 17 TPFs\n",
      "Kepler-394 (Kepler-394): Found 34 TPFs\n",
      "Kepler-59 (Kepler-59): Found 31 TPFs\n",
      "Downloading TPF 13/31\r"
     ]
    }
   ],
   "source": [
    "for index, row in df.iterrows():\n",
    "    # Check if TPF was found for this star\n",
    "    if row['TPF_Found']:\n",
    "        # Create a folder for the star\n",
    "        name = row['Star_Name']\n",
    "        \n",
    "        #join name with underscores\n",
    "        name = name.replace(\" \", \"_\")\n",
    "        star_folder = f\"{folder}{name}\"\n",
    "\n",
    "        if star_folder in subfolders:\n",
    "            print(f\"Folder for {name} already exists. Skipping...\")\n",
    "            continue\n",
    "\n",
    "        os.makedirs(star_folder, exist_ok=True)\n",
    "        # Search for the TPF\n",
    "        found_name = row['Found_Star_Name']\n",
    "        tpf = lk.search_targetpixelfile(row['Found_Star_Name'])\n",
    "        n_tpf = len(tpf)\n",
    "\n",
    "        print(f'{name} ({found_name})', end=': ')\n",
    "        print(f\"Found {n_tpf} TPFs\")\n",
    "        # Loop through the search result\n",
    "        for i in range(n_tpf):\n",
    "            print(f\"Downloading TPF {i+1}/{n_tpf}\", end='\\r')\n",
    "            # Get the exposure time\n",
    "            exptime = tpf[i].exptime\n",
    "            match = re.search(r'\\d+', str(exptime))\n",
    "            number = int(match.group())\n",
    "            # Create a folder for this exposure time within the star's folder\n",
    "            exptime_folder = f\"{star_folder}/exp_{number}\"\n",
    "            os.makedirs(exptime_folder, exist_ok=True)\n",
    "\n",
    "            try:\n",
    "                tpf_file = tpf[i].download()\n",
    "                fits_hdu = tpf_file.to_lightcurve(aperture_mask=tpf_file.pipeline_mask).to_fits()\n",
    "                header = fits_hdu[0].header\n",
    "                telescope, date, object = header['TELESCOP'], header['DATE'], header['OBJECT']\n",
    "                path = f\"{exptime_folder}/{name}_{telescope}_{date}_{object}_{i}.fits\"\n",
    "                fits_hdu.writeto(path, overwrite=True)\n",
    "                \n",
    "            except lk.LightkurveError as e:\n",
    "                print(f\"Error downloading TPF for {row['Star_Name']}: {e}\")\n",
    "            except FileNotFoundError as e:\n",
    "                print(f\"Error downloading TPF for {row['Star_Name']}: {e}\")\n",
    "            except IndexError as e:\n",
    "                print(f\"IndexError: {e}. Skipping iteration {i}.\")"
   ]
  },
  {
   "cell_type": "code",
   "execution_count": null,
   "metadata": {},
   "outputs": [],
   "source": []
  }
 ],
 "metadata": {
  "kernelspec": {
   "display_name": "astroenv",
   "language": "python",
   "name": "python3"
  },
  "language_info": {
   "codemirror_mode": {
    "name": "ipython",
    "version": 3
   },
   "file_extension": ".py",
   "mimetype": "text/x-python",
   "name": "python",
   "nbconvert_exporter": "python",
   "pygments_lexer": "ipython3",
   "version": "3.11.6"
  }
 },
 "nbformat": 4,
 "nbformat_minor": 2
}
